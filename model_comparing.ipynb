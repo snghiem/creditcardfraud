{
 "cells": [
  {
   "cell_type": "code",
   "execution_count": 8,
   "metadata": {
    "collapsed": true
   },
   "outputs": [],
   "source": [
    "import pandas as pd\n",
    "import numpy as np\n",
    "from sklearn.naive_bayes import GaussianNB\n",
    "from sklearn.model_selection import train_test_split\n",
    "from scipy.stats import norm\n",
    "from scipy.stats import invgamma\n",
    "from sklearn.metrics import f1_score\n",
    "from sklearn.preprocessing import scale"
   ]
  },
  {
   "cell_type": "code",
   "execution_count": 9,
   "metadata": {
    "collapsed": true
   },
   "outputs": [],
   "source": [
    "df = pd.read_csv('creditcard.csv')"
   ]
  },
  {
   "cell_type": "code",
   "execution_count": 10,
   "metadata": {
    "collapsed": false
   },
   "outputs": [],
   "source": [
    "y = df[\"Class\"].values\n",
    "df2 = df.drop(\"Class\", axis=1).values\n",
    "df2 = scale( df2, axis=0, with_mean=True, with_std=True, copy=True )"
   ]
  },
  {
   "cell_type": "code",
   "execution_count": 11,
   "metadata": {
    "collapsed": false
   },
   "outputs": [],
   "source": [
    "xtrain, xtest, ytrain, ytest = train_test_split(df2, y, test_size = 0.2, random_state=1)"
   ]
  },
  {
   "cell_type": "code",
   "execution_count": 12,
   "metadata": {
    "collapsed": false
   },
   "outputs": [
    {
     "name": "stdout",
     "output_type": "stream",
     "text": [
      "Correct classification 97.8266212563 %\n"
     ]
    }
   ],
   "source": [
    "clf = GaussianNB()\n",
    "y_pred = clf.fit(xtrain, ytrain).predict(xtest)\n",
    "print(\"Correct classification\", sum(y_pred==ytest)/len(ytest)*100, \"%\")"
   ]
  },
  {
   "cell_type": "code",
   "execution_count": 13,
   "metadata": {
    "collapsed": false
   },
   "outputs": [
    {
     "name": "stdout",
     "output_type": "stream",
     "text": [
      "F1 score:  0.0950292397661\n"
     ]
    }
   ],
   "source": [
    "print(\"F1 score: \", f1_score(ytest, y_pred,average='binary'))"
   ]
  },
  {
   "cell_type": "code",
   "execution_count": null,
   "metadata": {
    "collapsed": false
   },
   "outputs": [],
   "source": [
    "# with tau = 1\n",
    "Y = ytrain\n",
    "X=xtrain\n",
    "Z=Y\n",
    "K = len(X[0,:])\n",
    "N = len(Y)\n",
    "# inverse of prior variance for beta\n",
    "B0 = np.identity(K)*.001\n",
    "xi =  np.mean(X, axis = 0)\n",
    "XX = np.matmul(np.transpose(X),X)\n",
    "XX_inv = np.linalg.inv(XX)\n",
    "pos = Y>0\n",
    "neg = Y<=0\n",
    "no_pos = sum(pos)\n",
    "no_neg = sum(neg)\n",
    "nrep = 10000\n",
    "tau = 1\n",
    "sig = np.linalg.inv(XX+B0)\n",
    "beta = np.zeros((nrep,K))\n",
    "# Gibb sampling\n",
    "for i in range(1,nrep):\n",
    "    b_mean = np.matmul(sig, tau*np.matmul(np.transpose(X),Z))\n",
    "    beta[i,:] = np.random.multivariate_normal(b_mean, sig)\n",
    "    muy = np.matmul(X,np.transpose(beta[i,:]))\n",
    "    # A and B are just some operations to simplify the operations pf Z\n",
    "    A = np.ones(no_pos) - norm.cdf(-muy[pos])\n",
    "    B = np.random.uniform(0,1,no_pos)\n",
    "    Z[pos] = norm.ppf(np.multiply(A,B) +norm.cdf(-muy[pos])) +muy[pos]\n",
    "    A = np.random.uniform(0,1,no_neg)\n",
    "    B = norm.cdf(-muy[neg])\n",
    "    Z[neg] = norm.ppf(np.multiply(A,B))+muy[neg]\n",
    "\n",
    "b = np.mean(beta[1000:nrep,:], axis = 0)\n",
    "z_pred = np.matmul(xtest,b)\n",
    "y_pred = z_pred>0\n",
    "print(\"Correct classification\", f1_score(ytest, y_pred,average='binary')*100, \"%\")"
   ]
  },
  {
   "cell_type": "code",
   "execution_count": null,
   "metadata": {
    "collapsed": false
   },
   "outputs": [],
   "source": [
    "print(\"F1 score: \", f1_score(ytest, y_pred,average='binary'))"
   ]
  },
  {
   "cell_type": "code",
   "execution_count": null,
   "metadata": {
    "collapsed": true
   },
   "outputs": [],
   "source": []
  }
 ],
 "metadata": {
  "kernelspec": {
   "display_name": "Python 3",
   "language": "python",
   "name": "python3"
  },
  "language_info": {
   "codemirror_mode": {
    "name": "ipython",
    "version": 3
   },
   "file_extension": ".py",
   "mimetype": "text/x-python",
   "name": "python",
   "nbconvert_exporter": "python",
   "pygments_lexer": "ipython3",
   "version": "3.5.2"
  }
 },
 "nbformat": 4,
 "nbformat_minor": 2
}
