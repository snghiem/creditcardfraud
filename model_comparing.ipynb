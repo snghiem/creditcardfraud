{
 "cells": [
  {
   "cell_type": "code",
   "execution_count": 1,
   "metadata": {
    "collapsed": false
   },
   "outputs": [],
   "source": [
    "from sklearn.naive_bayes import GaussianNB\n",
    "from sklearn.model_selection import train_test_split\n",
    "from sklearn.metrics import f1_score\n",
    "from sklearn.preprocessing import scale\n",
    "import pandas as pd\n",
    "from numpy import *\n",
    "from scipy.stats import norm"
   ]
  },
  {
   "cell_type": "code",
   "execution_count": 2,
   "metadata": {
    "collapsed": false
   },
   "outputs": [],
   "source": [
    "random.seed(123456)\n",
    "\n",
    "df = pd.read_csv('creditcard.csv')\n",
    "y = df[\"Class\"].values\n",
    "df2 = df.drop(\"Class\", axis=1).values\n",
    "df2 = scale( df2, axis=0, with_mean=True, with_std=True, copy=True )\n",
    "xtrain, xtest, ytrain, ytest = train_test_split(df2, y, test_size = 0.2, random_state=1)"
   ]
  },
  {
   "cell_type": "code",
   "execution_count": 3,
   "metadata": {
    "collapsed": false
   },
   "outputs": [
    {
     "name": "stdout",
     "output_type": "stream",
     "text": [
      "Correct classification 97.8266212563 %\n"
     ]
    }
   ],
   "source": [
    "clf = GaussianNB()\n",
    "y_pred = clf.fit(xtrain, ytrain).predict(xtest)\n",
    "print(\"Correct classification\", sum(y_pred==ytest)/len(ytest)*100, \"%\")"
   ]
  },
  {
   "cell_type": "code",
   "execution_count": 4,
   "metadata": {
    "collapsed": false
   },
   "outputs": [
    {
     "name": "stdout",
     "output_type": "stream",
     "text": [
      "F1 score:  0.0950292397661\n"
     ]
    }
   ],
   "source": [
    "print(\"F1 score: \", f1_score(ytest, y_pred,average='binary'))"
   ]
  },
  {
   "cell_type": "code",
   "execution_count": 5,
   "metadata": {
    "collapsed": false
   },
   "outputs": [],
   "source": [
    "# with tau = 1\n",
    "Y =ytrain\n",
    "K = len(xtrain[0,:]) +1\n",
    "N = len(Y)\n",
    "Z=Y\n",
    "X = ones((N,K))\n",
    "X[:,1:K] = xtrain\n",
    "# inverse of prior variance for beta\n",
    "nrep = 10000\n",
    "burnin = 1000\n",
    "# inverse of prior variance for beta\n",
    "B0 = identity(K)*.01\n",
    "xi = mean(X, axis = 0)\n",
    "XX = matmul(transpose(X),X)\n",
    "XX_inv = linalg.inv(XX)\n",
    "pos = Y>0\n",
    "neg = Y<=0\n",
    "no_pos = sum(pos)\n",
    "no_neg = sum(neg)\n",
    "tau = 1\n",
    "sig = linalg.inv(XX+B0)\n",
    "beta = zeros((nrep,K))\n",
    "\n",
    "# Gibb sampling\n",
    "for i in range(1,nrep):\n",
    "    b_mean = matmul(sig, tau*matmul(transpose(X),Z))\n",
    "    beta[i,:] = random.multivariate_normal(b_mean, sig)\n",
    "    mu = matmul(X,beta[i,:])\n",
    "    # A and B are just some operations to simplify the operations pf Z\n",
    "    A = ones(no_pos) - norm.cdf(-mu[pos])\n",
    "    B = random.rand(no_pos)\n",
    "    Z[pos] = norm.ppf(multiply(A,B) +norm.cdf(-mu[pos])) +mu[pos]\n",
    "    A = random.rand(no_neg)\n",
    "    B = norm.cdf(-mu[neg])\n",
    "    Z[neg] = norm.ppf(multiply(A,B))+mu[neg]"
   ]
  },
  {
   "cell_type": "code",
   "execution_count": 6,
   "metadata": {
    "collapsed": false
   },
   "outputs": [
    {
     "name": "stdout",
     "output_type": "stream",
     "text": [
      "Correct classification 99.8911555072 %\n"
     ]
    }
   ],
   "source": [
    "b = mean(beta[burnin:nrep,:], axis = 0)\n",
    "bayes_xtest = ones((len(ytest),K))\n",
    "bayes_xtest[:,1:K] = xtest\n",
    "z_pred = matmul(bayes_xtest,b)\n",
    "y_pred2 = (z_pred>0).astype(float)\n",
    "print(\"Correct classification\", sum(y_pred2== ytest)/len(ytest)*100, \"%\")"
   ]
  },
  {
   "cell_type": "code",
   "execution_count": 7,
   "metadata": {
    "collapsed": false
   },
   "outputs": [
    {
     "name": "stdout",
     "output_type": "stream",
     "text": [
      "F1 score:  0.515625\n"
     ]
    }
   ],
   "source": [
    "print(\"F1 score: \", f1_score(ytest, y_pred2,average='binary'))"
   ]
  },
  {
   "cell_type": "code",
   "execution_count": null,
   "metadata": {
    "collapsed": true
   },
   "outputs": [],
   "source": []
  }
 ],
 "metadata": {
  "kernelspec": {
   "display_name": "Python 3",
   "language": "python",
   "name": "python3"
  },
  "language_info": {
   "codemirror_mode": {
    "name": "ipython",
    "version": 3
   },
   "file_extension": ".py",
   "mimetype": "text/x-python",
   "name": "python",
   "nbconvert_exporter": "python",
   "pygments_lexer": "ipython3",
   "version": "3.5.2"
  }
 },
 "nbformat": 4,
 "nbformat_minor": 2
}
