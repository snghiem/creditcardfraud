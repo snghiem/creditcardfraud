{
 "cells": [
  {
   "cell_type": "code",
   "execution_count": 8,
   "metadata": {
    "collapsed": true
   },
   "outputs": [],
   "source": [
    "from sklearn.naive_bayes import GaussianNB\n",
    "from sklearn.model_selection import train_test_split\n",
    "from sklearn.metrics import f1_score\n",
    "from sklearn.preprocessing import scale\n",
    "import pandas as pd\n",
    "from numpy import *\n",
    "from scipy.stats import norm\n",
    "import matplotlib.pyplot as plt"
   ]
  },
  {
   "cell_type": "code",
   "execution_count": 13,
   "metadata": {
    "collapsed": false
   },
   "outputs": [],
   "source": [
    "random.seed(123456)\n",
    "N = 500\n",
    "K = 4\n",
    "features = random.randn(N,K-1)\n",
    "features_probit = ones((N,K))\n",
    "features_probit[:,1:K] = features\n",
    "true_beta = array([-.12, .89, -.72, .50])\n",
    "eps = random.randn(N)\n",
    "Z0 = (matmul(features_probit,true_beta) + eps >0).astype(float)\n",
    "\n",
    "xtrain, xtest, ztrain, ztest = train_test_split(features, Z0, test_size = 0.2, random_state=1)\n",
    "ytrain = (ztrain>0).astype(float)\n",
    "ytest = (ztest>0).astype(float)\n",
    "\n",
    "X = ones((len(ytrain),K))\n",
    "X[:,1:K] = xtrain\n",
    "xtest_probit = ones((len(ytest),K))\n",
    "xtest_probit[:,1:K] = xtest\n",
    "Z = ztrain\n",
    "Y= ytrain\n",
    "\n",
    "nrep = 10000\n",
    "burnin = 1000\n",
    "# inverse of prior variance for beta\n",
    "B0 = identity(K)*.01\n",
    "xi = mean(X, axis = 0)\n",
    "XX = matmul(transpose(X),X)\n",
    "XX_inv = linalg.inv(XX)\n",
    "pos = Y>0\n",
    "neg = Y<=0\n",
    "no_pos = sum(pos)\n",
    "no_neg = sum(neg)\n",
    "tau = 1\n",
    "sig = linalg.inv(XX+B0)\n",
    "beta = zeros((nrep,K))"
   ]
  },
  {
   "cell_type": "code",
   "execution_count": 14,
   "metadata": {
    "collapsed": false
   },
   "outputs": [],
   "source": [
    "# Gibb sampling\n",
    "for i in range(1,nrep):\n",
    "    b_mean = matmul(sig, tau*matmul(transpose(X),Z))\n",
    "    beta[i,:] = random.multivariate_normal(b_mean, sig)\n",
    "    mu = matmul(X,beta[i,:])\n",
    "    # A and B are just some operations to simplify the operations pf Z\n",
    "    A = ones(no_pos) - norm.cdf(-mu[pos])\n",
    "    B = random.rand(no_pos)\n",
    "    Z[pos] = norm.ppf(multiply(A,B) +norm.cdf(-mu[pos])) +mu[pos]\n",
    "    A = random.rand(no_neg)\n",
    "    B = norm.cdf(-mu[neg])\n",
    "    Z[neg] = norm.ppf(multiply(A,B))+mu[neg]"
   ]
  },
  {
   "cell_type": "code",
   "execution_count": 15,
   "metadata": {
    "collapsed": false
   },
   "outputs": [
    {
     "data": {
      "text/plain": [
       "array([-0.14953115,  0.97407253, -0.70530793,  0.42341549])"
      ]
     },
     "execution_count": 15,
     "metadata": {},
     "output_type": "execute_result"
    }
   ],
   "source": [
    "mean(beta[burnin:nrep,:], axis = 0)"
   ]
  },
  {
   "cell_type": "code",
   "execution_count": 16,
   "metadata": {
    "collapsed": false
   },
   "outputs": [
    {
     "data": {
      "text/plain": [
       "array([ 0.07926969,  0.09676043,  0.08872162,  0.08151307])"
      ]
     },
     "execution_count": 16,
     "metadata": {},
     "output_type": "execute_result"
    }
   ],
   "source": [
    "std(beta[burnin:nrep,:], axis=0)"
   ]
  },
  {
   "cell_type": "code",
   "execution_count": 20,
   "metadata": {
    "collapsed": false
   },
   "outputs": [
    {
     "name": "stdout",
     "output_type": "stream",
     "text": [
      "Correct classification 76.0 %\n"
     ]
    }
   ],
   "source": [
    "b = mean(beta[burnin:nrep,:], axis = 0)\n",
    "z_pred = matmul(xtest_probit,b)\n",
    "y_pred = (z_pred>0).astype(float)\n",
    "print(\"Correct classification\", sum(y_pred==ytest)/len(ytest)*100, \"%\")"
   ]
  },
  {
   "cell_type": "code",
   "execution_count": 22,
   "metadata": {
    "collapsed": false
   },
   "outputs": [
    {
     "name": "stdout",
     "output_type": "stream",
     "text": [
      "F1 score:  0.739130434783\n"
     ]
    }
   ],
   "source": [
    "print(\"F1 score: \", f1_score(ytest, y_pred,average='binary'))"
   ]
  },
  {
   "cell_type": "code",
   "execution_count": 21,
   "metadata": {
    "collapsed": false
   },
   "outputs": [
    {
     "name": "stdout",
     "output_type": "stream",
     "text": [
      "Correct classification 72.0 %\n"
     ]
    }
   ],
   "source": [
    "clf = GaussianNB()\n",
    "y_pred2 = clf.fit(xtrain, ytrain).predict(xtest)\n",
    "print(\"Correct classification\", sum(y_pred2==ytest)/len(ytest)*100, \"%\")"
   ]
  },
  {
   "cell_type": "code",
   "execution_count": 23,
   "metadata": {
    "collapsed": false
   },
   "outputs": [
    {
     "name": "stdout",
     "output_type": "stream",
     "text": [
      "F1 score:  0.702127659574\n"
     ]
    }
   ],
   "source": [
    "print(\"F1 score: \", f1_score(ytest, y_pred2,average='binary'))"
   ]
  },
  {
   "cell_type": "code",
   "execution_count": null,
   "metadata": {
    "collapsed": true
   },
   "outputs": [],
   "source": []
  }
 ],
 "metadata": {
  "kernelspec": {
   "display_name": "Python 3",
   "language": "python",
   "name": "python3"
  },
  "language_info": {
   "codemirror_mode": {
    "name": "ipython",
    "version": 3
   },
   "file_extension": ".py",
   "mimetype": "text/x-python",
   "name": "python",
   "nbconvert_exporter": "python",
   "pygments_lexer": "ipython3",
   "version": "3.5.2"
  }
 },
 "nbformat": 4,
 "nbformat_minor": 2
}
